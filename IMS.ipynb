{
  "nbformat": 4,
  "nbformat_minor": 0,
  "metadata": {
    "colab": {
      "name": "IMS.ipynb",
      "provenance": [],
      "collapsed_sections": []
    },
    "kernelspec": {
      "name": "python3",
      "display_name": "Python 3"
    },
    "language_info": {
      "name": "python"
    }
  },
  "cells": [
    {
      "cell_type": "code",
      "metadata": {
        "id": "lZXJKDVbolst"
      },
      "source": [
        "records= {\n",
        "1 : { \"product\": \"colgate\", \"cost\": 30, \" date\": \"03-08-2021\", \"availableStock\": True, \"discount\": 10 },\n",
        "    2 : { \"product\": \"daber red\", \"cost\": 90, \"date\": \"09-08-2021\",\"availableStock\": True , \"discount\": 0 },\n",
        "    3 : { \"product\": \"parle g\", \"cost\": 15, \"date\": \"01-10-2021\", \"availableStock\": True, \"discount\": 20 },\n",
        "    4 : { \"product\": \"thumsup\", \"cost\" :30, \"date\": \"27-09-2021\", \"availableStock\": False, \"discount\": 18 },\n",
        "    5 : { \"product\": \"5 star\", \"cost\": 25, \"date\": \"19-08-2021\", \"availableStock\": True, \"discount\": 15 },\n",
        "    6 : { \"product\": \"yipee\", \"cost\": 12, \"date\": \"30-08-2021\", \"availableStock\": True, \"discount\": 0 },\n",
        "    7 : { \"product\": \"cheese\", \"cost\": 50, \"date\": \"31-08-2021\", \"availableStock\": True, \"discount\": 10 },\n",
        "    8 : { \"product\": \"axe\", \"cost\": 250, \"date\": \"15-08-2021\", \"availableStock\": True, \"discount\": 18 },\n",
        "    9 : { \"product\": \"ice cream\", \"cost\": 99, \"date\": \"05-08-2021\", \"availableStock\": True, \"discount\": 33 },\n",
        "    10 : { \"product\": \"laddu\", \"cost\": 20, \"date\": \"24-08-2021\", \"availableStock\": True, \"discount\": 0 },\n",
        "    11 : { \"product\": \"burger\", \"cost\": 60, \"date\": \"30-08-2021\", \"availableStock\": True, \"discount\": 0 },\n",
        "    12 : { \"product\": \"lays\", \"cost\": 180, \"date\": \"02-09-2021\", \"availableStock\": True, \"discount\": 20 },\n",
        "    13 : { \"product\": \"gala \", \"cost\": 185, \"date\": \"20-08-2021\", \"availableStock\": False, \"discount\": 20 },\n",
        "    14 : { \"product\": \"jeera\", \"cost\": 80, \"date\": \"31-08-2021\", \"availableStock\": True, \"discount\": 0 },\n",
        "    15 : { \"product\": \"goodday\", \"cost\": 30, \"date\": \"07-08-2021\", \"availableStock\": True, \"discount\": 5 },\n",
        "    16 : { \"product\": \"clinic plus\", \"cost\": 58, \"date\": \"07-08-2021\", \"availableStock\": True, \"discount\": 15 },\n",
        "    17 : { \"product\": \"pepsodent\", \"cost\": 55, \"date\": \"09-06-2021\", \"availableStock\": True, \"discount\": 23 },\n",
        "    18 : { \"product\": \"glasses\", \"cost\": 600, \"date\": \"24-12-2021\", \"availableStock\": True, \"discount\": 30 },\n",
        "    19 : { \"product\": \"ice cream\", \"cost\": 320, \"date\": \"06-08-2021\", \"availableStock\": True, \"discount\": 15 },\n",
        "    20 : { \"product\": \"red label\", \"cost\": 680, \"date\": \"08-04-2021\", \"availableStock\": False, \"discount\": 35 },\n",
        "    21 : { \"product\": \"amul butter\", \"cost\": 60, \"date\": \"01-09-2021\", \"availableStock\": True, \"discount\": 0 },\n",
        "    22 : { \"product\": \"water bottle\", \"cost\": 550, \"date\": \"29-08-2021\", \"availableStock\": True, \"discount\": 20 },\n",
        "    23 : { \"product\": \"Lays\", \"cost\": 20, \"date\": \"27-08-2021\", \"availableStock\": True, \"discount\": 0 },\n",
        "    24 : { \"product\": \"bru\", \"cost\": 56, \"date\": \"24-07-2021\", \"availableStock\": True, \"discount\": 18 },\n",
        "    25 : { \"product\": \"lazer\", \"cost\": 30, \"date\": \"24-02-2021\", \"availableStock\": True, \"discount\": 0 },\n",
        "    26 : { \"product\": \"chicken\", \"cost\": 100, \"date\": \"25-08-2021\", \"availableStock\": True, \"discount\": 0 },\n",
        "    27 : { \"product\": \"surfexcel\", \"cost\": 360, \"date\": \"24-07-2021\", \"availableStock\": True, \"discount\": 0 },\n",
        "    28 : { \"product\": \"rin\", \"cost\": 89, \"date\": \"20-08-2021\", \"availableStock\": True, \"discount\": 13 },\n",
        "    29 : { \"product\": \"spoons\", \"cost\": 49, \"date\": \"30-07-2021\", \"availableStock\": True, \"discount\": 15 },\n",
        "    30 : { \"product\": \" Cooker\", \"cost\": 1200, \"date\": \"24-02-2021\", \"availableStock\": True, \"discount\": 20 }\n",
        "}\n",
        "\n"
      ],
      "execution_count": 32,
      "outputs": []
    },
    {
      "cell_type": "code",
      "metadata": {
        "colab": {
          "base_uri": "https://localhost:8080/"
        },
        "id": "LuNdsYxntVrv",
        "outputId": "e5ef56a5-65c1-4ef8-ff38-ae1a95f7d16b"
      },
      "source": [
        "# print(\"product ID\\t\", \"product Name\\t\" ,\"Price\\t\", \"Manufacture Date\\t\", \"Available in stock\\t\", \"Offer\\t\")\n",
        "for i in records:\n",
        "  # print(i, \"\\t\\t\", record[i][\"item\"], \"\\t\\t\", record[i][\"price\"], \"\\t\\t\", record[i][\"date\"], \"\\t\\t\", record[i][\"inStock\"], \"\\t\\t\", record[i][\"offer\"])\n",
        "  print(i,\" = \",record[i])"
      ],
      "execution_count": 33,
      "outputs": [
        {
          "output_type": "stream",
          "name": "stdout",
          "text": [
            "1  =  {'product': 'colgate', 'cost': 30, ' manf_date': '03-08-2021', 'availableStock': True, 'discount': 10}\n",
            "2  =  {'product': 'daber red', 'cost': 90, 'manf_date': '09-08-2021', 'availableStock': True, 'discount': 0}\n",
            "3  =  {'product': 'parle g', 'cost': 15, 'manf_date': '01-10-2021', 'availableStock': True, 'discount': 20}\n",
            "4  =  {'product': 'thumsup', 'cost': 30, 'manf_date': '27-09-2021', 'availableStock': False, 'discount': 18}\n",
            "5  =  {'product': '5 star', 'cost': 25, 'manf_date': '19-08-2021', 'availableStock': True, 'discount': 15}\n",
            "6  =  {'product': 'yipee', 'cost': 12, 'manf_date': '30-08-2021', 'availableStock': True, 'discount': 0}\n",
            "7  =  {'product': 'cheese', 'cost': 50, 'manf_date': '31-08-2021', 'availableStock': True, 'discount': 10}\n",
            "8  =  {'product': 'axe', 'cost': 250, 'manf_date': '15-08-2021', 'availableStock': True, 'discount': 18}\n",
            "9  =  {'product': 'ice cream', 'cost': 99, 'manf_date': '05-08-2021', 'availableStock': True, 'discount': 33}\n",
            "10  =  {'product': 'laddu', 'cost': 20, 'manf_date': '24-08-2021', 'availableStock': True, 'discount': 0}\n",
            "11  =  {'product': 'burger', 'cost': 60, 'manf_date': '30-08-2021', 'availableStock': True, 'discount': 0}\n",
            "12  =  {'product': 'lays', 'cost': 180, 'manf_date': '02-09-2021', 'availableStock': True, 'discount': 20}\n",
            "13  =  {'product': 'gala ', 'cost': 185, 'manf_date': '20-08-2021', 'availableStock': False, 'discount': 20}\n",
            "14  =  {'product': 'jeera', 'cost': 80, 'manf_date': '31-08-2021', 'availableStock': True, 'discount': 0}\n",
            "15  =  {'product': 'goodday', 'cost': 30, 'manf_date': '07-08-2021', 'availableStock': True, 'discount': 5}\n",
            "16  =  {'product': 'clinic plus', 'cost': 58, 'manf_date': '07-08-2021', 'availableStock': True, 'discount': 15}\n",
            "17  =  {'product': 'pepsodent', 'cost': 55, 'manf_date': '09-06-2021', 'availableStock': True, 'discount': 23}\n",
            "18  =  {'product': 'glasses', 'cost': 600, 'manf_date': '24-12-2021', 'availableStock': True, 'discount': 30}\n",
            "19  =  {'product': 'ice cream', 'cost': 320, 'manf_date': '06-08-2021', 'availableStock': True, 'discount': 15}\n",
            "20  =  {'product': 'red label', 'cost': 680, 'manf_date': '08-04-2021', 'availableStock': False, 'discount': 35}\n",
            "21  =  {'product': 'amul butter', 'cost': 60, 'manf_date': '01-09-2021', 'availableStock': True, 'discount': 0}\n",
            "22  =  {'product': 'water bottle', 'cost': 550, 'manf_date': '29-08-2021', 'availableStock': True, 'discount': 20}\n",
            "23  =  {'product': 'Lays', 'cost': 20, 'manf_date': '27-08-2021', 'availableStock': True, 'discount': 0}\n",
            "24  =  {'product': 'bru', 'cost': 56, 'manf_date': '24-07-2021', 'availableStock': True, 'discount': 18}\n",
            "25  =  {'product': 'lazer', 'cost': 30, 'manf_date': '24-02-2021', 'availableStock': True, 'discount': 0}\n",
            "26  =  {'product': 'chicken', 'cost': 100, 'manf_date': '25-08-2021', 'availableStock': True, 'discount': 0}\n",
            "27  =  {'product': 'surfexcel', 'cost': 360, 'manf_date': '24-07-2021', 'availableStock': True, 'discount': 0}\n",
            "28  =  {'product': 'rin', 'cost': 89, 'manf_date': '20-08-2021', 'availableStock': True, 'discount': 13}\n",
            "29  =  {'product': 'spoons', 'cost': 49, 'manf_date': '30-07-2021', 'availableStock': True, 'discount': 15}\n",
            "30  =  {'product': ' Cooker', 'cost': 1200, 'manf_date': '24-02-2021', 'availableStock': True, 'discount': 20}\n"
          ]
        }
      ]
    },
    {
      "cell_type": "code",
      "metadata": {
        "id": "wkQqaMEeutEI"
      },
      "source": [
        "import json"
      ],
      "execution_count": 34,
      "outputs": []
    },
    {
      "cell_type": "code",
      "metadata": {
        "id": "s7puJm7Vuvxu"
      },
      "source": [
        "j_s = json.dumps(records)"
      ],
      "execution_count": 35,
      "outputs": []
    },
    {
      "cell_type": "code",
      "metadata": {
        "colab": {
          "base_uri": "https://localhost:8080/",
          "height": 221
        },
        "id": "JcpfT6cqve2E",
        "outputId": "e3e15a99-0e00-4c99-f964-cba1486f5112"
      },
      "source": [
        "j_s"
      ],
      "execution_count": 36,
      "outputs": [
        {
          "output_type": "execute_result",
          "data": {
            "application/vnd.google.colaboratory.intrinsic+json": {
              "type": "string"
            },
            "text/plain": [
              "'{\"1\": {\"product\": \"colgate\", \"cost\": 30, \" date\": \"03-08-2021\", \"availableStock\": true, \"discount\": 10}, \"2\": {\"product\": \"daber red\", \"cost\": 90, \"date\": \"09-08-2021\", \"availableStock\": true, \"discount\": 0}, \"3\": {\"product\": \"parle g\", \"cost\": 15, \"date\": \"01-10-2021\", \"availableStock\": true, \"discount\": 20}, \"4\": {\"product\": \"thumsup\", \"cost\": 30, \"date\": \"27-09-2021\", \"availableStock\": false, \"discount\": 18}, \"5\": {\"product\": \"5 star\", \"cost\": 25, \"date\": \"19-08-2021\", \"availableStock\": true, \"discount\": 15}, \"6\": {\"product\": \"yipee\", \"cost\": 12, \"date\": \"30-08-2021\", \"availableStock\": true, \"discount\": 0}, \"7\": {\"product\": \"cheese\", \"cost\": 50, \"date\": \"31-08-2021\", \"availableStock\": true, \"discount\": 10}, \"8\": {\"product\": \"axe\", \"cost\": 250, \"date\": \"15-08-2021\", \"availableStock\": true, \"discount\": 18}, \"9\": {\"product\": \"ice cream\", \"cost\": 99, \"date\": \"05-08-2021\", \"availableStock\": true, \"discount\": 33}, \"10\": {\"product\": \"laddu\", \"cost\": 20, \"date\": \"24-08-2021\", \"availableStock\": true, \"discount\": 0}, \"11\": {\"product\": \"burger\", \"cost\": 60, \"date\": \"30-08-2021\", \"availableStock\": true, \"discount\": 0}, \"12\": {\"product\": \"lays\", \"cost\": 180, \"date\": \"02-09-2021\", \"availableStock\": true, \"discount\": 20}, \"13\": {\"product\": \"gala \", \"cost\": 185, \"date\": \"20-08-2021\", \"availableStock\": false, \"discount\": 20}, \"14\": {\"product\": \"jeera\", \"cost\": 80, \"date\": \"31-08-2021\", \"availableStock\": true, \"discount\": 0}, \"15\": {\"product\": \"goodday\", \"cost\": 30, \"date\": \"07-08-2021\", \"availableStock\": true, \"discount\": 5}, \"16\": {\"product\": \"clinic plus\", \"cost\": 58, \"date\": \"07-08-2021\", \"availableStock\": true, \"discount\": 15}, \"17\": {\"product\": \"pepsodent\", \"cost\": 55, \"date\": \"09-06-2021\", \"availableStock\": true, \"discount\": 23}, \"18\": {\"product\": \"glasses\", \"cost\": 600, \"date\": \"24-12-2021\", \"availableStock\": true, \"discount\": 30}, \"19\": {\"product\": \"ice cream\", \"cost\": 320, \"date\": \"06-08-2021\", \"availableStock\": true, \"discount\": 15}, \"20\": {\"product\": \"red label\", \"cost\": 680, \"date\": \"08-04-2021\", \"availableStock\": false, \"discount\": 35}, \"21\": {\"product\": \"amul butter\", \"cost\": 60, \"date\": \"01-09-2021\", \"availableStock\": true, \"discount\": 0}, \"22\": {\"product\": \"water bottle\", \"cost\": 550, \"date\": \"29-08-2021\", \"availableStock\": true, \"discount\": 20}, \"23\": {\"product\": \"Lays\", \"cost\": 20, \"date\": \"27-08-2021\", \"availableStock\": true, \"discount\": 0}, \"24\": {\"product\": \"bru\", \"cost\": 56, \"date\": \"24-07-2021\", \"availableStock\": true, \"discount\": 18}, \"25\": {\"product\": \"lazer\", \"cost\": 30, \"date\": \"24-02-2021\", \"availableStock\": true, \"discount\": 0}, \"26\": {\"product\": \"chicken\", \"cost\": 100, \"date\": \"25-08-2021\", \"availableStock\": true, \"discount\": 0}, \"27\": {\"product\": \"surfexcel\", \"cost\": 360, \"date\": \"24-07-2021\", \"availableStock\": true, \"discount\": 0}, \"28\": {\"product\": \"rin\", \"cost\": 89, \"date\": \"20-08-2021\", \"availableStock\": true, \"discount\": 13}, \"29\": {\"product\": \"spoons\", \"cost\": 49, \"date\": \"30-07-2021\", \"availableStock\": true, \"discount\": 15}, \"30\": {\"product\": \" Cooker\", \"cost\": 1200, \"date\": \"24-02-2021\", \"availableStock\": true, \"discount\": 20}}'"
            ]
          },
          "metadata": {},
          "execution_count": 36
        }
      ]
    },
    {
      "cell_type": "code",
      "metadata": {
        "id": "mL1yOvoLwDO-"
      },
      "source": [
        "day_count = 0\n",
        "fd = open(\"records.json\",\"w\")\n",
        "fd.write(j_s)\n",
        "fd.close()"
      ],
      "execution_count": 40,
      "outputs": []
    },
    {
      "cell_type": "code",
      "metadata": {
        "id": "R_fGGhXlwe-Z"
      },
      "source": [
        "fd = open(\"records.json\",\"r\")\n",
        "data = fd.read()\n",
        "fd.close()"
      ],
      "execution_count": 41,
      "outputs": []
    },
    {
      "cell_type": "code",
      "metadata": {
        "colab": {
          "base_uri": "https://localhost:8080/",
          "height": 221
        },
        "id": "AXu69b-Mwray",
        "outputId": "853b6cfd-7e7e-4fb3-e6d1-33d0cebe7419"
      },
      "source": [
        "data"
      ],
      "execution_count": 42,
      "outputs": [
        {
          "output_type": "execute_result",
          "data": {
            "application/vnd.google.colaboratory.intrinsic+json": {
              "type": "string"
            },
            "text/plain": [
              "'{\"1\": {\"product\": \"colgate\", \"cost\": 30, \" date\": \"03-08-2021\", \"availableStock\": true, \"discount\": 10}, \"2\": {\"product\": \"daber red\", \"cost\": 90, \"date\": \"09-08-2021\", \"availableStock\": true, \"discount\": 0}, \"3\": {\"product\": \"parle g\", \"cost\": 15, \"date\": \"01-10-2021\", \"availableStock\": true, \"discount\": 20}, \"4\": {\"product\": \"thumsup\", \"cost\": 30, \"date\": \"27-09-2021\", \"availableStock\": false, \"discount\": 18}, \"5\": {\"product\": \"5 star\", \"cost\": 25, \"date\": \"19-08-2021\", \"availableStock\": true, \"discount\": 15}, \"6\": {\"product\": \"yipee\", \"cost\": 12, \"date\": \"30-08-2021\", \"availableStock\": true, \"discount\": 0}, \"7\": {\"product\": \"cheese\", \"cost\": 50, \"date\": \"31-08-2021\", \"availableStock\": true, \"discount\": 10}, \"8\": {\"product\": \"axe\", \"cost\": 250, \"date\": \"15-08-2021\", \"availableStock\": true, \"discount\": 18}, \"9\": {\"product\": \"ice cream\", \"cost\": 99, \"date\": \"05-08-2021\", \"availableStock\": true, \"discount\": 33}, \"10\": {\"product\": \"laddu\", \"cost\": 20, \"date\": \"24-08-2021\", \"availableStock\": true, \"discount\": 0}, \"11\": {\"product\": \"burger\", \"cost\": 60, \"date\": \"30-08-2021\", \"availableStock\": true, \"discount\": 0}, \"12\": {\"product\": \"lays\", \"cost\": 180, \"date\": \"02-09-2021\", \"availableStock\": true, \"discount\": 20}, \"13\": {\"product\": \"gala \", \"cost\": 185, \"date\": \"20-08-2021\", \"availableStock\": false, \"discount\": 20}, \"14\": {\"product\": \"jeera\", \"cost\": 80, \"date\": \"31-08-2021\", \"availableStock\": true, \"discount\": 0}, \"15\": {\"product\": \"goodday\", \"cost\": 30, \"date\": \"07-08-2021\", \"availableStock\": true, \"discount\": 5}, \"16\": {\"product\": \"clinic plus\", \"cost\": 58, \"date\": \"07-08-2021\", \"availableStock\": true, \"discount\": 15}, \"17\": {\"product\": \"pepsodent\", \"cost\": 55, \"date\": \"09-06-2021\", \"availableStock\": true, \"discount\": 23}, \"18\": {\"product\": \"glasses\", \"cost\": 600, \"date\": \"24-12-2021\", \"availableStock\": true, \"discount\": 30}, \"19\": {\"product\": \"ice cream\", \"cost\": 320, \"date\": \"06-08-2021\", \"availableStock\": true, \"discount\": 15}, \"20\": {\"product\": \"red label\", \"cost\": 680, \"date\": \"08-04-2021\", \"availableStock\": false, \"discount\": 35}, \"21\": {\"product\": \"amul butter\", \"cost\": 60, \"date\": \"01-09-2021\", \"availableStock\": true, \"discount\": 0}, \"22\": {\"product\": \"water bottle\", \"cost\": 550, \"date\": \"29-08-2021\", \"availableStock\": true, \"discount\": 20}, \"23\": {\"product\": \"Lays\", \"cost\": 20, \"date\": \"27-08-2021\", \"availableStock\": true, \"discount\": 0}, \"24\": {\"product\": \"bru\", \"cost\": 56, \"date\": \"24-07-2021\", \"availableStock\": true, \"discount\": 18}, \"25\": {\"product\": \"lazer\", \"cost\": 30, \"date\": \"24-02-2021\", \"availableStock\": true, \"discount\": 0}, \"26\": {\"product\": \"chicken\", \"cost\": 100, \"date\": \"25-08-2021\", \"availableStock\": true, \"discount\": 0}, \"27\": {\"product\": \"surfexcel\", \"cost\": 360, \"date\": \"24-07-2021\", \"availableStock\": true, \"discount\": 0}, \"28\": {\"product\": \"rin\", \"cost\": 89, \"date\": \"20-08-2021\", \"availableStock\": true, \"discount\": 13}, \"29\": {\"product\": \"spoons\", \"cost\": 49, \"date\": \"30-07-2021\", \"availableStock\": true, \"discount\": 15}, \"30\": {\"product\": \" Cooker\", \"cost\": 1200, \"date\": \"24-02-2021\", \"availableStock\": true, \"discount\": 20}}'"
            ]
          },
          "metadata": {},
          "execution_count": 42
        }
      ]
    },
    {
      "cell_type": "markdown",
      "metadata": {
        "id": "L1H-5Y6nxIqS"
      },
      "source": [
        "dict"
      ]
    },
    {
      "cell_type": "code",
      "metadata": {
        "id": "zeKccXNAxRIn"
      },
      "source": [
        "dict = json.loads(data)"
      ],
      "execution_count": 43,
      "outputs": []
    },
    {
      "cell_type": "code",
      "metadata": {
        "colab": {
          "base_uri": "https://localhost:8080/"
        },
        "id": "QdBC8knWxiXm",
        "outputId": "576b2553-817d-4637-bc2c-b208745789ee"
      },
      "source": [
        "dict"
      ],
      "execution_count": 44,
      "outputs": [
        {
          "output_type": "execute_result",
          "data": {
            "text/plain": [
              "{'1': {' date': '03-08-2021',\n",
              "  'availableStock': True,\n",
              "  'cost': 30,\n",
              "  'discount': 10,\n",
              "  'product': 'colgate'},\n",
              " '10': {'availableStock': True,\n",
              "  'cost': 20,\n",
              "  'date': '24-08-2021',\n",
              "  'discount': 0,\n",
              "  'product': 'laddu'},\n",
              " '11': {'availableStock': True,\n",
              "  'cost': 60,\n",
              "  'date': '30-08-2021',\n",
              "  'discount': 0,\n",
              "  'product': 'burger'},\n",
              " '12': {'availableStock': True,\n",
              "  'cost': 180,\n",
              "  'date': '02-09-2021',\n",
              "  'discount': 20,\n",
              "  'product': 'lays'},\n",
              " '13': {'availableStock': False,\n",
              "  'cost': 185,\n",
              "  'date': '20-08-2021',\n",
              "  'discount': 20,\n",
              "  'product': 'gala '},\n",
              " '14': {'availableStock': True,\n",
              "  'cost': 80,\n",
              "  'date': '31-08-2021',\n",
              "  'discount': 0,\n",
              "  'product': 'jeera'},\n",
              " '15': {'availableStock': True,\n",
              "  'cost': 30,\n",
              "  'date': '07-08-2021',\n",
              "  'discount': 5,\n",
              "  'product': 'goodday'},\n",
              " '16': {'availableStock': True,\n",
              "  'cost': 58,\n",
              "  'date': '07-08-2021',\n",
              "  'discount': 15,\n",
              "  'product': 'clinic plus'},\n",
              " '17': {'availableStock': True,\n",
              "  'cost': 55,\n",
              "  'date': '09-06-2021',\n",
              "  'discount': 23,\n",
              "  'product': 'pepsodent'},\n",
              " '18': {'availableStock': True,\n",
              "  'cost': 600,\n",
              "  'date': '24-12-2021',\n",
              "  'discount': 30,\n",
              "  'product': 'glasses'},\n",
              " '19': {'availableStock': True,\n",
              "  'cost': 320,\n",
              "  'date': '06-08-2021',\n",
              "  'discount': 15,\n",
              "  'product': 'ice cream'},\n",
              " '2': {'availableStock': True,\n",
              "  'cost': 90,\n",
              "  'date': '09-08-2021',\n",
              "  'discount': 0,\n",
              "  'product': 'daber red'},\n",
              " '20': {'availableStock': False,\n",
              "  'cost': 680,\n",
              "  'date': '08-04-2021',\n",
              "  'discount': 35,\n",
              "  'product': 'red label'},\n",
              " '21': {'availableStock': True,\n",
              "  'cost': 60,\n",
              "  'date': '01-09-2021',\n",
              "  'discount': 0,\n",
              "  'product': 'amul butter'},\n",
              " '22': {'availableStock': True,\n",
              "  'cost': 550,\n",
              "  'date': '29-08-2021',\n",
              "  'discount': 20,\n",
              "  'product': 'water bottle'},\n",
              " '23': {'availableStock': True,\n",
              "  'cost': 20,\n",
              "  'date': '27-08-2021',\n",
              "  'discount': 0,\n",
              "  'product': 'Lays'},\n",
              " '24': {'availableStock': True,\n",
              "  'cost': 56,\n",
              "  'date': '24-07-2021',\n",
              "  'discount': 18,\n",
              "  'product': 'bru'},\n",
              " '25': {'availableStock': True,\n",
              "  'cost': 30,\n",
              "  'date': '24-02-2021',\n",
              "  'discount': 0,\n",
              "  'product': 'lazer'},\n",
              " '26': {'availableStock': True,\n",
              "  'cost': 100,\n",
              "  'date': '25-08-2021',\n",
              "  'discount': 0,\n",
              "  'product': 'chicken'},\n",
              " '27': {'availableStock': True,\n",
              "  'cost': 360,\n",
              "  'date': '24-07-2021',\n",
              "  'discount': 0,\n",
              "  'product': 'surfexcel'},\n",
              " '28': {'availableStock': True,\n",
              "  'cost': 89,\n",
              "  'date': '20-08-2021',\n",
              "  'discount': 13,\n",
              "  'product': 'rin'},\n",
              " '29': {'availableStock': True,\n",
              "  'cost': 49,\n",
              "  'date': '30-07-2021',\n",
              "  'discount': 15,\n",
              "  'product': 'spoons'},\n",
              " '3': {'availableStock': True,\n",
              "  'cost': 15,\n",
              "  'date': '01-10-2021',\n",
              "  'discount': 20,\n",
              "  'product': 'parle g'},\n",
              " '30': {'availableStock': True,\n",
              "  'cost': 1200,\n",
              "  'date': '24-02-2021',\n",
              "  'discount': 20,\n",
              "  'product': ' Cooker'},\n",
              " '4': {'availableStock': False,\n",
              "  'cost': 30,\n",
              "  'date': '27-09-2021',\n",
              "  'discount': 18,\n",
              "  'product': 'thumsup'},\n",
              " '5': {'availableStock': True,\n",
              "  'cost': 25,\n",
              "  'date': '19-08-2021',\n",
              "  'discount': 15,\n",
              "  'product': '5 star'},\n",
              " '6': {'availableStock': True,\n",
              "  'cost': 12,\n",
              "  'date': '30-08-2021',\n",
              "  'discount': 0,\n",
              "  'product': 'yipee'},\n",
              " '7': {'availableStock': True,\n",
              "  'cost': 50,\n",
              "  'date': '31-08-2021',\n",
              "  'discount': 10,\n",
              "  'product': 'cheese'},\n",
              " '8': {'availableStock': True,\n",
              "  'cost': 250,\n",
              "  'date': '15-08-2021',\n",
              "  'discount': 18,\n",
              "  'product': 'axe'},\n",
              " '9': {'availableStock': True,\n",
              "  'cost': 99,\n",
              "  'date': '05-08-2021',\n",
              "  'discount': 33,\n",
              "  'product': 'ice cream'}}"
            ]
          },
          "metadata": {},
          "execution_count": 44
        }
      ]
    },
    {
      "cell_type": "code",
      "metadata": {
        "colab": {
          "base_uri": "https://localhost:8080/"
        },
        "id": "q5nI-yrDxo_i",
        "outputId": "9d590747-97ca-4ab7-b82b-2860bb789a7b"
      },
      "source": [
        "print(\"WELCOME FOR SHOPPING\")\n"
      ],
      "execution_count": 49,
      "outputs": [
        {
          "output_type": "stream",
          "name": "stdout",
          "text": [
            "WELCOME FOR SHOPPING\n"
          ]
        }
      ]
    },
    {
      "cell_type": "code",
      "metadata": {
        "colab": {
          "base_uri": "https://localhost:8080/"
        },
        "id": "3r2KTWi76Qk_",
        "outputId": "ca114fb4-5f0d-43ef-f88f-2d35e72c597b"
      },
      "source": [
        "f = open(\"sales.json\",\"a\")\n",
        "will_buy = True\n",
        "print(\"Happy Shopping\")\n",
        "while will_buy:\n",
        "  n = int(input(\"Dear Customer, Please Enter Unique Id of the product that you want to buy: \"))\n",
        "  q = int(input(\"Dear Customer, Enter the quantity of the product: \"))\n",
        "  day_count += q\n",
        "  f.write(str(record[n])+\"\\nTotal Price = \"+str(record[n][\"cost\"]*q))\n",
        "  print(\"Dear Customer, Press 1 to continue else press any key to quit\")\n",
        "  n = input(\"Dear Customer, Enter your option: \")\n",
        "  will_buy = True if n == '1'  else False\n",
        "\n",
        "f.write(\"\\nProducts saled upto now = \"+str(day_count)+\"\\n\")\n",
        "f.close()"
      ],
      "execution_count": 51,
      "outputs": [
        {
          "name": "stdout",
          "output_type": "stream",
          "text": [
            "Happy Shopping\n",
            "Dear Customer, Please Enter Unique Id of the product that you want to buy: 24\n",
            "Dear Customer, Enter the quantity of the product: 4\n",
            "Dear Customer, Press 1 to continue else press any key to quit\n",
            "Dear Customer, Enter your option: 1\n",
            "Dear Customer, Please Enter Unique Id of the product that you want to buy: 4\n",
            "Dear Customer, Enter the quantity of the product: 3\n",
            "Dear Customer, Press 1 to continue else press any key to quit\n",
            "Dear Customer, Enter your option: w\n"
          ]
        }
      ]
    },
    {
      "cell_type": "code",
      "metadata": {
        "id": "2aQnbbQi7Beu"
      },
      "source": [
        "f = open(\"sales.json\",\"r\")\n",
        "text = f.read()\n",
        "f.close()"
      ],
      "execution_count": 52,
      "outputs": []
    },
    {
      "cell_type": "code",
      "metadata": {
        "colab": {
          "base_uri": "https://localhost:8080/",
          "height": 86
        },
        "id": "sg0qAQVK7Ke8",
        "outputId": "48fffd05-7f9b-42b9-fb32-5dbc7f073579"
      },
      "source": [
        "text"
      ],
      "execution_count": 53,
      "outputs": [
        {
          "output_type": "execute_result",
          "data": {
            "application/vnd.google.colaboratory.intrinsic+json": {
              "type": "string"
            },
            "text/plain": [
              "\"{'product': 'bru', 'cost': 56, 'manf_date': '24-07-2021', 'availableStock': True, 'discount': 18}\\nTotal Price = 224{'product': 'thumsup', 'cost': 30, 'manf_date': '27-09-2021', 'availableStock': False, 'discount': 18}\\nTotal Price = 90\\nProducts saled upto now = 7\\n\""
            ]
          },
          "metadata": {},
          "execution_count": 53
        }
      ]
    },
    {
      "cell_type": "code",
      "metadata": {
        "id": "xDxlSM_E7LdS"
      },
      "source": [
        ""
      ],
      "execution_count": null,
      "outputs": []
    }
  ]
}